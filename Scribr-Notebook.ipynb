{
 "cells": [
  {
   "cell_type": "markdown",
   "metadata": {},
   "source": [
    "<h2>Building Scribr - An Autocomplete Tool for Scribes"
   ]
  },
  {
   "cell_type": "markdown",
   "metadata": {},
   "source": [
    "<p>First, I scraped a glossary of medical terms which was a good source of data for a few reasons:"
   ]
  },
  {
   "cell_type": "markdown",
   "metadata": {},
   "source": [
    "<p>1) <b>Consistency</b> - there's minimal variance page to page (fonts, bolding, etc), which made scraping much easier"
   ]
  },
  {
   "cell_type": "markdown",
   "metadata": {},
   "source": [
    "<p>2) <b>Related terms</b> - for some definitions, they're followed by a \"See [condition]\" which allows for a wider scope of  recommendations that aren't just based on the same prefixes"
   ]
  },
  {
   "cell_type": "markdown",
   "metadata": {},
   "source": [
    "<h3>Scraping the PDF"
   ]
  },
  {
   "cell_type": "code",
   "execution_count": 10,
   "metadata": {},
   "outputs": [],
   "source": [
    "from docx import *\n",
    "import re"
   ]
  },
  {
   "cell_type": "code",
   "execution_count": 11,
   "metadata": {},
   "outputs": [],
   "source": [
    "# scrubbing the invalid text\n",
    "def valid_text(text):\n",
    "    if 'INDEX' in text or 'Page' in text or text == ' ':\n",
    "        return False\n",
    "    else:\n",
    "        return True\n",
    "\n",
    "# import document\n",
    "document = Document('Gloss_Med_Terms.docx')\n",
    "terms = {}\n",
    "fulllen_text = ''\n",
    "\n",
    "# get key terms --> (key terms are bolded)\n",
    "for para in document.paragraphs:\n",
    "    for run in para.runs[0:]:\n",
    "        fulllen_text += run.text\n",
    "        if run.bold and valid_text(run.text):\n",
    "            text = run.text\n",
    "            terms[text.strip()] = 1\n",
    "\n",
    "# get definitions & key terms again just to double check\n",
    "items = []\n",
    "splt = fulllen_text.split(\"--\")\n",
    "for spl in splt[1:]:\n",
    "    # remove bad terms\n",
    "    cleaned_text = re.sub('Page \\d+', ' ', spl)\n",
    "    cleaned_text = re.sub('INDEX', ' ', cleaned_text)\n",
    "    \n",
    "    # split term and definition\n",
    "    period_location = cleaned_text.rfind('.') + 1\n",
    "    definition = cleaned_text[0:period_location].strip(\" \")\n",
    "    term = cleaned_text[period_location:].strip(\" \")\n",
    "\n",
    "    # add both to same list\n",
    "    items.append(definition)\n",
    "    items.append(term)"
   ]
  },
  {
   "cell_type": "code",
   "execution_count": 12,
   "metadata": {},
   "outputs": [
    {
     "data": {
      "text/plain": [
       "2016"
      ]
     },
     "execution_count": 12,
     "metadata": {},
     "output_type": "execute_result"
    }
   ],
   "source": [
    "# quick sanity check\n",
    "len(items)"
   ]
  },
  {
   "cell_type": "code",
   "execution_count": 13,
   "metadata": {},
   "outputs": [],
   "source": [
    "# hardcoded first definition \n",
    "terms['ACTH (Adrenocorticotropic hormone)'] = items[0]\n",
    "\n",
    "# adding definitions\n",
    "j = 1\n",
    "while j < len(items) - 1:\n",
    "    term = items[j]\n",
    "    defn = items[j + 1]\n",
    "    terms[term] = defn\n",
    "    j += 2\n",
    "    \n",
    "# removing bad terms\n",
    "bad_terms = []\n",
    "for key in terms:\n",
    "    if terms[key] == 1:\n",
    "        bad_terms.append(key)\n",
    "        \n",
    "for term in bad_terms:\n",
    "    del terms[term]"
   ]
  },
  {
   "cell_type": "markdown",
   "metadata": {},
   "source": [
    "<h3>Creating a Glossary of Medical Terms (and their Relatives)"
   ]
  },
  {
   "cell_type": "markdown",
   "metadata": {},
   "source": [
    "<p>Here, I'm just building a simple hashmap of 'term' to 'MedicalTerm', which is an object that stores the term itself, its definition, related terms, and a score. \n",
    "\n",
    "The term is put in all lowercase such that when the user enters queries on the frontend, case sensitivty does not find incorrect matches."
   ]
  },
  {
   "cell_type": "markdown",
   "metadata": {},
   "source": [
    "<p>*** Note: currently, the score is a random integer between 1 and 10 and as users click on a suggested result, the score would be adjusted accordingly"
   ]
  },
  {
   "cell_type": "code",
   "execution_count": 14,
   "metadata": {},
   "outputs": [],
   "source": [
    "import random\n",
    "\n",
    "# object to store medical terms\n",
    "class MedicalTerm:\n",
    "    \n",
    "    def __init__(self, defn, term, related_terms=[]):\n",
    "        self.definition = defn\n",
    "        self.term = term\n",
    "        self.related_terms = related_terms\n",
    "        self.score = random.randint(0, 10)"
   ]
  },
  {
   "cell_type": "code",
   "execution_count": 15,
   "metadata": {},
   "outputs": [],
   "source": [
    "# function to parse related terms from medical definitions\n",
    "complete_related_terms = []\n",
    "\n",
    "def get_related_terms(defn):\n",
    "    # check if related terms exist\n",
    "    start_loc = defn.find('See')\n",
    "    if start_loc != -1:\n",
    "        end_loc = defn.find('.', start_loc)\n",
    "        defn = defn[start_loc:end_loc + 1]\n",
    "        defn = defn[defn.find('See'):]\n",
    "        defn = defn[defn.find(' '):]\n",
    "        related_terms = defn.strip(' ').split(';')\n",
    "        for i in range(0, len(related_terms)):\n",
    "            related_terms[i] = related_terms[i].strip('. ').lower()\n",
    "        \n",
    "        return related_terms\n",
    "    \n",
    "# create mapping\n",
    "medical_dictionary = {}\n",
    "for term in terms:\n",
    "    defn = terms[term]\n",
    "    word = term.lower()\n",
    "    medical_dictionary[word] = MedicalTerm(defn, word, get_related_terms(defn))"
   ]
  },
  {
   "cell_type": "markdown",
   "metadata": {},
   "source": [
    "<h3>Building A Trie For Efficient Term Suggestions"
   ]
  },
  {
   "cell_type": "markdown",
   "metadata": {},
   "source": [
    "<p>As we landed on in my interview, the ideal data structure for a\n",
    "autocomplete suggestion is a trie. Below, you'll find the implementation\n",
    "for it as well as some queries just to test it."
   ]
  },
  {
   "cell_type": "code",
   "execution_count": 69,
   "metadata": {},
   "outputs": [],
   "source": [
    "class Node:\n",
    "    '''\n",
    "    Each node stores a value, a MedicalTerm object (as defined above), \n",
    "    children, and a `completed` boolean to denote that a term is complete.\n",
    "    '''\n",
    "    def __init__(self, val='', m_term=None):\n",
    "        self.val = val\n",
    "        self.medical_term = m_term\n",
    "        self.children = {}\n",
    "        self.completed = False\n",
    "        \n",
    "class AutocompleteTrie:\n",
    "    \n",
    "    def __init__(self):\n",
    "        '''\n",
    "        Initializes an empty node as the root with an \n",
    "        empty dictionary as children.\n",
    "        '''\n",
    "        self.root = Node()\n",
    "        \n",
    "    \n",
    "    def insert_word(self, m_term):\n",
    "        '''\n",
    "        Inserts medical term into the trie. Creates\n",
    "        new children nodes correspondingly.\n",
    "        '''\n",
    "        val = m_term.term\n",
    "        curr_node = self.root\n",
    "        \n",
    "        for i in range(0, len(val)):\n",
    "            char = val[i]\n",
    "            \n",
    "            # create new nodes if children don't exist\n",
    "            if char not in curr_node.children:\n",
    "                stubbed_suggestion = val[0: i + 1]\n",
    "                new_node = Node(stubbed_suggestion)\n",
    "                curr_node.children[char] = new_node\n",
    "                curr_node = new_node\n",
    "            else:\n",
    "                curr_node = curr_node.children[char]\n",
    "        \n",
    "        curr_node.medical_term = m_term\n",
    "        curr_node.completed = True\n",
    "    \n",
    "    \n",
    "    def find_word(self, val):\n",
    "        '''\n",
    "        Attempts to find a word in the trie. Returns False\n",
    "        if the word is not found, otherwise returns the term, \n",
    "        definition, and related words in a Tuple:\n",
    "            (term, definition, related_words)\n",
    "        '''\n",
    "        curr_node = self.root\n",
    "        \n",
    "        for k in val:\n",
    "            if k not in curr_node.children:\n",
    "                return False\n",
    "            else:\n",
    "                curr_node = curr_node.children[k]\n",
    "                \n",
    "        if curr_node.completed:\n",
    "            return (curr_node.val, curr_node.medical_term.definition, curr_node.medical_term.related_terms)\n",
    "        else:\n",
    "            return False\n",
    "\n",
    "    \n",
    "    def find_suggestions(self, val):\n",
    "        '''\n",
    "        Returns a list of words that match a given prefix as well as words\n",
    "        that could possibly be related to a given prefix.\n",
    "        '''\n",
    "        curr_node = self.root\n",
    "        \n",
    "        for k in val:\n",
    "            if k not in curr_node.children:\n",
    "                return list()\n",
    "            \n",
    "            curr_node = curr_node.children[k]\n",
    "            \n",
    "        suggestions = []\n",
    "        self.find_suggestions_helper(curr_node, suggestions)\n",
    "        \n",
    "        return suggestions\n",
    "    \n",
    "    \n",
    "    def find_suggestions_helper(self, node, suggestions):\n",
    "        '''\n",
    "        Recursive helper function for the above.\n",
    "        '''\n",
    "        if node.completed:\n",
    "            suggestions.append(node.val)\n",
    "            # add related terms to suggestions if they exist\n",
    "            if node.medical_term.related_terms:\n",
    "                suggestions.extend(node.medical_term.related_terms)\n",
    "        \n",
    "        for c in node.children:\n",
    "            self.find_suggestions_helper(node.children[c], suggestions)\n"
   ]
  },
  {
   "cell_type": "markdown",
   "metadata": {},
   "source": [
    "<h3>3, 2, 1...Takeoff"
   ]
  },
  {
   "cell_type": "code",
   "execution_count": 70,
   "metadata": {},
   "outputs": [],
   "source": [
    "# creating the trie & stuffing it with our medical terms\n",
    "autocomplete_trie = AutocompleteTrie()\n",
    "for term in medical_dictionary:\n",
    "    autocomplete_trie.insert_word(medical_dictionary[term])"
   ]
  },
  {
   "cell_type": "markdown",
   "metadata": {},
   "source": [
    "<p>Let's see what happens when we search for a word...like 'abscess'"
   ]
  },
  {
   "cell_type": "code",
   "execution_count": 71,
   "metadata": {},
   "outputs": [
    {
     "data": {
      "text/plain": [
       "('abscess',\n",
       " 'Swollen, inflamed, tender area of infection filled with pus.',\n",
       " None)"
      ]
     },
     "execution_count": 71,
     "metadata": {},
     "output_type": "execute_result"
    }
   ],
   "source": [
    "autocomplete_trie.find_word('abscess')"
   ]
  },
  {
   "cell_type": "markdown",
   "metadata": {},
   "source": [
    "<p>Neat, what about when we try and find an <b>exact</b> match for 'ab', which isn't in our medical glossary?"
   ]
  },
  {
   "cell_type": "code",
   "execution_count": 72,
   "metadata": {},
   "outputs": [
    {
     "data": {
      "text/plain": [
       "False"
      ]
     },
     "execution_count": 72,
     "metadata": {},
     "output_type": "execute_result"
    }
   ],
   "source": [
    "autocomplete_trie.find_word('ab')"
   ]
  },
  {
   "cell_type": "markdown",
   "metadata": {},
   "source": [
    "<p>What about when we try to find suggestions for medical terms that might start with 'ab'?"
   ]
  },
  {
   "cell_type": "code",
   "execution_count": 75,
   "metadata": {},
   "outputs": [
    {
     "data": {
      "text/plain": [
       "['abell-kendall modification', 'abruptio placenta', 'abscess']"
      ]
     },
     "execution_count": 75,
     "metadata": {},
     "output_type": "execute_result"
    }
   ],
   "source": [
    "suggestions = autocomplete_trie.find_suggestions('ab')\n",
    "suggestions"
   ]
  },
  {
   "cell_type": "markdown",
   "metadata": {},
   "source": [
    "<p>Hmm...that's cool, but let's examine this hypothetical scenario for just a second:\n",
    "A member comes in with 'Ahaptoglobulinemia', which the scribe hears that through the intercom, but only gets the first few letters ('aha'). \n",
    "    \n",
    "Here's what a potential search would look like:"
   ]
  },
  {
   "cell_type": "code",
   "execution_count": 76,
   "metadata": {},
   "outputs": [
    {
     "data": {
      "text/plain": [
       "['ahaptoglobulinemia', 'anemia, hemolytic', 'infectious mononucleosis']"
      ]
     },
     "execution_count": 76,
     "metadata": {},
     "output_type": "execute_result"
    }
   ],
   "source": [
    "autocomplete_trie.find_suggestions('aha')"
   ]
  },
  {
   "cell_type": "markdown",
   "metadata": {},
   "source": [
    "Lo and behold, we'll see that specific condition as well as potentially related conditions that don't necessarily start with 'aha'. "
   ]
  },
  {
   "cell_type": "markdown",
   "metadata": {},
   "source": [
    "<h2>Analysis & Optimizations"
   ]
  },
  {
   "cell_type": "markdown",
   "metadata": {},
   "source": [
    "Let's analyze the time complexity for each of the three main operations performed on this trie:\n",
    "- Insert Word - O(n), where n is the number of characters in our term\n",
    "- Find Word (Exact Match) - O(n), where n is the number of characters \n",
    "- Find Suggestions - O(n) + O(m) + O(q log q) (for sorting), where n is the number of characters in our query & m and q are the number of completions\n",
    "\n",
    "Based on this, it's clear that 'find suggestions' function is the bottleneck in our application's performance. In order to eliminate this bottleneck, we can store completions in each Node in our trie. In other words, if we were looking for a term that started with 'ab', we would travel down the 'a' node to the 'b' node, which would store all possible completions for words beginning with 'ab'. Consequently, we wouldn't have to recursively travel down each child of 'ab' as we are in the status quo."
   ]
  },
  {
   "cell_type": "markdown",
   "metadata": {},
   "source": [
    "Our new trie is implemented below. Changes are marked with the ever-so subtle comment: \"# NEW NEW NEW NEW NEW NEW\""
   ]
  },
  {
   "cell_type": "code",
   "execution_count": 77,
   "metadata": {},
   "outputs": [],
   "source": [
    "import bisect\n",
    "\n",
    "class Node:\n",
    "    '''\n",
    "    Each node stores a value, a MedicalTerm object (as defined above), \n",
    "    children, and a `completed` boolean to denote that a term is complete.\n",
    "    '''\n",
    "    def __init__(self, val='', m_term=None):\n",
    "        self.val = val\n",
    "        self.medical_term = m_term\n",
    "        self.children = {}\n",
    "        self.completions = []\n",
    "        self.completed = False\n",
    "        \n",
    "class AutocompleteTrie:\n",
    "    \n",
    "    def __init__(self):\n",
    "        '''\n",
    "        Initializes an empty node as the root with an \n",
    "        empty dictionary as children.\n",
    "        '''\n",
    "        self.root = Node()\n",
    "        \n",
    "    \n",
    "    def insert_word(self, m_term):\n",
    "        '''\n",
    "        Inserts medical term into the trie. Creates\n",
    "        new children nodes correspondingly.\n",
    "        '''\n",
    "        val = m_term.term\n",
    "        defn = m_term.definition\n",
    "        curr_node = self.root\n",
    "        \n",
    "        # NEW NEW NEW NEW\n",
    "        \n",
    "        # add completions & their definitions if they exist\n",
    "        related_terms_exist = False\n",
    "        if m_term.related_terms:\n",
    "            related_terms_exist = True\n",
    "            \n",
    "            completed_terms_and_definitions = []\n",
    "            for term in m_term.related_terms:\n",
    "                if term in medical_dictionary:\n",
    "                    completed_terms_and_definitions.append((term, medical_dictionary[term].definition, medical_dictionary[term].score))\n",
    "            \n",
    "        # NEW NEW NEW NEW\n",
    "        \n",
    "        for i in range(0, len(val)):\n",
    "            char = val[i]\n",
    "            \n",
    "            # create new nodes if children don't exist\n",
    "            if char not in curr_node.children:\n",
    "                stubbed_suggestion = val[0: i + 1]\n",
    "                new_node = Node(stubbed_suggestion)\n",
    "                \n",
    "                # NEW NEW NEW NEW\n",
    "                # append completions\n",
    "                new_node.completions.append((val, defn, m_term.score))\n",
    "                if related_terms_exist:\n",
    "                    new_node.completions.extend(completed_terms_and_definitions)\n",
    "                # NEW NEW NEW NEW \n",
    "                \n",
    "                curr_node.children[char] = new_node\n",
    "                curr_node = new_node\n",
    "            else:\n",
    "                curr_node = curr_node.children[char]\n",
    "                \n",
    "                # NEW NEW NEW NEW\n",
    "                # append completions\n",
    "                curr_node.completions.append((val, defn, m_term.score))\n",
    "                if related_terms_exist:\n",
    "                    curr_node.completions.extend(completed_terms_and_definitions)\n",
    "                # NEW NEW NEW NEW\n",
    "        \n",
    "        curr_node.medical_term = m_term\n",
    "        curr_node.completed = True\n",
    "    \n",
    "    \n",
    "    def find_word(self, val):\n",
    "        '''\n",
    "        Attempts to find a word in the trie. Returns False\n",
    "        if the word is not found, otherwise returns the term, \n",
    "        definition, and related words in a Tuple:\n",
    "            (term, definition, related_words)\n",
    "        '''\n",
    "        curr_node = self.root\n",
    "        \n",
    "        for k in val:\n",
    "            if k not in curr_node.children:\n",
    "                return False\n",
    "            else:\n",
    "                curr_node = curr_node.children[k]\n",
    "                \n",
    "        if curr_node.completed:\n",
    "            return curr_node\n",
    "        else:\n",
    "            return False\n",
    "\n",
    "    \n",
    "    def find_suggestions(self, val):\n",
    "        '''\n",
    "        Returns a list of words that match a given prefix as well as words\n",
    "        that could possibly be related to a given prefix.\n",
    "        '''\n",
    "        curr_node = self.root\n",
    "        \n",
    "        for k in val:\n",
    "            if k not in curr_node.children:\n",
    "                return list()\n",
    "            \n",
    "            curr_node = curr_node.children[k]\n",
    "            \n",
    "        return sorted(curr_node.completions, key=lambda x: x[2], reverse=True)"
   ]
  },
  {
   "cell_type": "markdown",
   "metadata": {},
   "source": [
    "<h3>Testing Our New Implementation"
   ]
  },
  {
   "cell_type": "code",
   "execution_count": 78,
   "metadata": {},
   "outputs": [],
   "source": [
    "# creating the trie & stuffing it with our medical terms\n",
    "autocomplete_trie = AutocompleteTrie()\n",
    "for term in medical_dictionary:\n",
    "    autocomplete_trie.insert_word(medical_dictionary[term])"
   ]
  },
  {
   "cell_type": "code",
   "execution_count": 79,
   "metadata": {},
   "outputs": [
    {
     "data": {
      "text/plain": [
       "[('alkalosis, respiratory',\n",
       "  'abdominal pain, diarrhea, appetite loss and brown skin. Abnormal condition when body fluids are more alkaline than normal. Caused by conditions that decrease the level of carbon dioxide in the blood, such as breathing too rapidly or congestive heart failure. See Congestive heart failure.',\n",
       "  3),\n",
       " ('congestive heart failure',\n",
       "  'Complication of many serious diseases in which the heart loses its full pumping capacity. Blood backs up into other organs, especially the lungs and liver.',\n",
       "  2)]"
      ]
     },
     "execution_count": 79,
     "metadata": {},
     "output_type": "execute_result"
    }
   ],
   "source": [
    "dummy = autocomplete_trie.find_word('alkalosis, respiratory')\n",
    "dummy.completions"
   ]
  },
  {
   "cell_type": "code",
   "execution_count": 81,
   "metadata": {},
   "outputs": [
    {
     "name": "stdout",
     "output_type": "stream",
     "text": [
      "Term:  anemia, hemolytic\n",
      "Definition:  Anemia due to the premature destruction of mature red blood cells. Bone marrow cannot produce red blood cells fast enough to compensate for those being destroyed.\n",
      "Score:  4 \n",
      "\n",
      "Term:  ahaptoglobulinemia\n",
      "Definition:  Without haptoglobin in the blood. Condition is often seen with hemolytic anemia, severe liver disease and infectious mononucleosis. See Anemia, hemolytic; infectious mononucleosis.\n",
      "Score:  2 \n",
      "\n",
      "Term:  infectious mononucleosis\n",
      "Definition:  Infectious viral disease that affects the liver, respiratory system and lymphatic system.\n",
      "Score:  0 \n",
      "\n"
     ]
    }
   ],
   "source": [
    "suggestions = autocomplete_trie.find_suggestions('aha')\n",
    "for suggestion in suggestions:\n",
    "    print(\"Term: \", suggestion[0])\n",
    "    print(\"Definition: \", suggestion[1])\n",
    "    print(\"Score: \", suggestion[2], \"\\n\")"
   ]
  },
  {
   "cell_type": "markdown",
   "metadata": {},
   "source": [
    "<h3>Final Notes"
   ]
  },
  {
   "cell_type": "markdown",
   "metadata": {},
   "source": [
    "The solution described above still isn't the ideal solution. In an ideal solution, we'd like O(1) reads & writes (assuming the terms are presorted). We can use the optimization above and take it a step further by hashing every single suggestion to a possible list of completions, where we would ultimately be trading space for performance. A NoSQL database implementation (i.e Redis)  would be ideal for something like this. But for the purposes of this, simply using a NoSQL database instead of implementing my own data structure from scratch would qualify as cheating."
   ]
  },
  {
   "cell_type": "markdown",
   "metadata": {},
   "source": [
    "An example of the aforementioned optimization:<br>\n",
    "a --> addition(score:20), app(score: 15), apple(score: 10), application(score:5)<br>\n",
    "ad --> addition(score:20)<br>\n",
    "app --> apple(score:10), application(score:5)<br>\n",
    "appl --> apple(score:10), application(score:5)<br>\n",
    "apple --> apple(score:10)<br>\n",
    "appli --> application(score:5)<br>\n",
    "  "
   ]
  },
  {
   "cell_type": "code",
   "execution_count": null,
   "metadata": {},
   "outputs": [],
   "source": []
  }
 ],
 "metadata": {
  "kernelspec": {
   "display_name": "Python 3",
   "language": "python",
   "name": "python3"
  },
  "language_info": {
   "codemirror_mode": {
    "name": "ipython",
    "version": 3
   },
   "file_extension": ".py",
   "mimetype": "text/x-python",
   "name": "python",
   "nbconvert_exporter": "python",
   "pygments_lexer": "ipython3",
   "version": "3.6.9"
  }
 },
 "nbformat": 4,
 "nbformat_minor": 4
}
